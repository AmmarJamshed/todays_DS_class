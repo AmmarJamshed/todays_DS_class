{
  "nbformat": 4,
  "nbformat_minor": 0,
  "metadata": {
    "colab": {
      "provenance": []
    },
    "kernelspec": {
      "name": "python3",
      "display_name": "Python 3"
    },
    "language_info": {
      "name": "python"
    }
  },
  "cells": [
    {
      "cell_type": "code",
      "execution_count": null,
      "metadata": {
        "colab": {
          "base_uri": "https://localhost:8080/"
        },
        "id": "VxgGnH7hkqrd",
        "outputId": "4e7336c4-5c0a-4fce-eb9f-34e060a8d57e"
      },
      "outputs": [
        {
          "output_type": "stream",
          "name": "stdout",
          "text": [
            "We are learning python\n"
          ]
        }
      ],
      "source": [
        "print('We are learning python')"
      ]
    },
    {
      "cell_type": "code",
      "source": [
        "# variable\n",
        "x = 9\n",
        "x = x * 3\n",
        "print(x)"
      ],
      "metadata": {
        "colab": {
          "base_uri": "https://localhost:8080/"
        },
        "id": "HkCOwpZ9rqo7",
        "outputId": "60212595-3676-4f02-cc35-f74d1cfcbb4b"
      },
      "execution_count": null,
      "outputs": [
        {
          "output_type": "stream",
          "name": "stdout",
          "text": [
            "27\n"
          ]
        }
      ]
    },
    {
      "cell_type": "code",
      "source": [
        "9 != 8"
      ],
      "metadata": {
        "colab": {
          "base_uri": "https://localhost:8080/"
        },
        "id": "S6ACyw5zsgYO",
        "outputId": "bc041440-23b4-49fa-af6d-8a329b83efc6"
      },
      "execution_count": null,
      "outputs": [
        {
          "output_type": "execute_result",
          "data": {
            "text/plain": [
              "True"
            ]
          },
          "metadata": {},
          "execution_count": 11
        }
      ]
    },
    {
      "cell_type": "code",
      "source": [
        "1+1 == 2"
      ],
      "metadata": {
        "colab": {
          "base_uri": "https://localhost:8080/"
        },
        "id": "vFXjHUgttG4q",
        "outputId": "8289c168-4dda-41d5-de69-f0536f3384d9"
      },
      "execution_count": null,
      "outputs": [
        {
          "output_type": "execute_result",
          "data": {
            "text/plain": [
              "True"
            ]
          },
          "metadata": {},
          "execution_count": 9
        }
      ]
    },
    {
      "cell_type": "code",
      "source": [
        "y = 2.3\n",
        "print(y)"
      ],
      "metadata": {
        "colab": {
          "base_uri": "https://localhost:8080/"
        },
        "id": "5TYIzMBLtN5z",
        "outputId": "a86dc72f-d91c-45ae-dfaf-b4143c140272"
      },
      "execution_count": null,
      "outputs": [
        {
          "output_type": "stream",
          "name": "stdout",
          "text": [
            "2.3\n"
          ]
        }
      ]
    },
    {
      "cell_type": "code",
      "source": [
        "type(y)"
      ],
      "metadata": {
        "colab": {
          "base_uri": "https://localhost:8080/"
        },
        "id": "q8l4gRmOtoTh",
        "outputId": "56b23379-031f-43f2-fc11-c701f54a5e6f"
      },
      "execution_count": null,
      "outputs": [
        {
          "output_type": "execute_result",
          "data": {
            "text/plain": [
              "float"
            ]
          },
          "metadata": {},
          "execution_count": 13
        }
      ]
    },
    {
      "cell_type": "code",
      "source": [
        "string = \"Ammar\"\n",
        "print(string)"
      ],
      "metadata": {
        "colab": {
          "base_uri": "https://localhost:8080/"
        },
        "id": "bV2tAiX9trS5",
        "outputId": "8de92f63-24a8-436e-fc7f-93faee8193ee"
      },
      "execution_count": null,
      "outputs": [
        {
          "output_type": "stream",
          "name": "stdout",
          "text": [
            "Ammar\n"
          ]
        }
      ]
    },
    {
      "cell_type": "code",
      "source": [
        "list_one = [12, 'ammar', 2.3]\n",
        "print(list_one)"
      ],
      "metadata": {
        "colab": {
          "base_uri": "https://localhost:8080/"
        },
        "id": "NUyYURCTtwlA",
        "outputId": "d3c49371-01aa-4a0d-f835-e9bcecb193fb"
      },
      "execution_count": null,
      "outputs": [
        {
          "output_type": "stream",
          "name": "stdout",
          "text": [
            "[12, 'ammar', 2.3]\n"
          ]
        }
      ]
    },
    {
      "cell_type": "code",
      "source": [
        "print(list_one[0])"
      ],
      "metadata": {
        "colab": {
          "base_uri": "https://localhost:8080/"
        },
        "id": "VOOnV4jTt56J",
        "outputId": "184261bb-c6dd-4a52-bbb0-22bb411d39ee"
      },
      "execution_count": null,
      "outputs": [
        {
          "output_type": "stream",
          "name": "stdout",
          "text": [
            "12\n"
          ]
        }
      ]
    },
    {
      "cell_type": "code",
      "source": [
        "list_one[0] = 13\n",
        "list_one"
      ],
      "metadata": {
        "colab": {
          "base_uri": "https://localhost:8080/"
        },
        "id": "xzERI-Fmt_NG",
        "outputId": "b7c52145-4726-401e-ce23-6c7004411280"
      },
      "execution_count": null,
      "outputs": [
        {
          "output_type": "execute_result",
          "data": {
            "text/plain": [
              "[13, 'ammar', 2.3]"
            ]
          },
          "metadata": {},
          "execution_count": 17
        }
      ]
    },
    {
      "cell_type": "code",
      "source": [
        "tuple_one = (1,'Ammar', 3)\n"
      ],
      "metadata": {
        "id": "y2FQQTGwuZNl"
      },
      "execution_count": null,
      "outputs": []
    },
    {
      "cell_type": "code",
      "source": [
        "Dict = {\"Gender\": \"Male\", \"CNIC\": \"1234\"}\n",
        "\n",
        "\n",
        "# 4 Dict / 5 keyvalue pairs\n",
        "print(5 +1)"
      ],
      "metadata": {
        "colab": {
          "base_uri": "https://localhost:8080/"
        },
        "id": "lKTr7Drsuj22",
        "outputId": "2b93ec1a-9c83-40fd-8c03-7834b1923747"
      },
      "execution_count": null,
      "outputs": [
        {
          "output_type": "stream",
          "name": "stdout",
          "text": [
            "6\n"
          ]
        }
      ]
    },
    {
      "cell_type": "code",
      "source": [
        "print( 5 / 3)"
      ],
      "metadata": {
        "colab": {
          "base_uri": "https://localhost:8080/"
        },
        "id": "_EHgAY4EvENx",
        "outputId": "4de85cb8-255c-4608-e1b3-a2327be97b79"
      },
      "execution_count": null,
      "outputs": [
        {
          "output_type": "stream",
          "name": "stdout",
          "text": [
            "1.6666666666666667\n"
          ]
        }
      ]
    },
    {
      "cell_type": "code",
      "source": [
        "print( 5 // 3)"
      ],
      "metadata": {
        "colab": {
          "base_uri": "https://localhost:8080/"
        },
        "id": "gc3dhxZxzxK6",
        "outputId": "3fd4377f-fcca-4589-d7ae-46babc4f33be"
      },
      "execution_count": null,
      "outputs": [
        {
          "output_type": "stream",
          "name": "stdout",
          "text": [
            "1\n"
          ]
        }
      ]
    },
    {
      "cell_type": "code",
      "source": [
        "print(5 ** 3)"
      ],
      "metadata": {
        "colab": {
          "base_uri": "https://localhost:8080/"
        },
        "id": "XQV6I1uz0AY-",
        "outputId": "f00d811c-5b65-45b6-9257-a14fc70df476"
      },
      "execution_count": null,
      "outputs": [
        {
          "output_type": "stream",
          "name": "stdout",
          "text": [
            "125\n"
          ]
        }
      ]
    },
    {
      "cell_type": "code",
      "source": [
        "import math\n",
        "from math import sqrt"
      ],
      "metadata": {
        "id": "7RPkuLIr0nwX"
      },
      "execution_count": null,
      "outputs": []
    },
    {
      "cell_type": "code",
      "source": [
        "sqrt(125)"
      ],
      "metadata": {
        "colab": {
          "base_uri": "https://localhost:8080/"
        },
        "id": "-KlNh3m100VU",
        "outputId": "28479554-ff20-4f38-e2d2-06f37c044fa2"
      },
      "execution_count": null,
      "outputs": [
        {
          "output_type": "execute_result",
          "data": {
            "text/plain": [
              "11.180339887498949"
            ]
          },
          "metadata": {},
          "execution_count": 31
        }
      ]
    },
    {
      "cell_type": "code",
      "source": [
        "print(125 ** (1/3))"
      ],
      "metadata": {
        "colab": {
          "base_uri": "https://localhost:8080/"
        },
        "id": "3IqY4LHu0-LV",
        "outputId": "e63b4f2b-e17b-41ff-b0e1-bf2dd6c23511"
      },
      "execution_count": null,
      "outputs": [
        {
          "output_type": "stream",
          "name": "stdout",
          "text": [
            "4.999999999999999\n"
          ]
        }
      ]
    },
    {
      "cell_type": "code",
      "source": [
        "1 / 3"
      ],
      "metadata": {
        "colab": {
          "base_uri": "https://localhost:8080/"
        },
        "id": "8YETIhVM1OQg",
        "outputId": "4b87390a-8276-4b65-8925-e66f9162c5ed"
      },
      "execution_count": null,
      "outputs": [
        {
          "output_type": "execute_result",
          "data": {
            "text/plain": [
              "0.3333333333333333"
            ]
          },
          "metadata": {},
          "execution_count": 35
        }
      ]
    },
    {
      "cell_type": "code",
      "source": [
        " x = x % 3\n",
        " x += 125 %3"
      ],
      "metadata": {
        "id": "0bVsxD3_1arg"
      },
      "execution_count": null,
      "outputs": []
    },
    {
      "cell_type": "code",
      "source": [
        "  x  = \"hello world\"\n",
        "  print('' in x)"
      ],
      "metadata": {
        "colab": {
          "base_uri": "https://localhost:8080/"
        },
        "id": "-AeTNdgB2Oam",
        "outputId": "152e64ee-0c32-485e-a4d3-b3b3635f419c"
      },
      "execution_count": null,
      "outputs": [
        {
          "output_type": "stream",
          "name": "stdout",
          "text": [
            "True\n"
          ]
        }
      ]
    },
    {
      "cell_type": "code",
      "source": [
        "print( 5 & 3)"
      ],
      "metadata": {
        "colab": {
          "base_uri": "https://localhost:8080/"
        },
        "id": "KokeoZzi1oth",
        "outputId": "cee583c8-2e77-4395-ef44-ffe54cf77443"
      },
      "execution_count": null,
      "outputs": [
        {
          "output_type": "stream",
          "name": "stdout",
          "text": [
            "1\n"
          ]
        }
      ]
    },
    {
      "cell_type": "code",
      "source": [
        "int(input(\" Insert value: \"))"
      ],
      "metadata": {
        "colab": {
          "base_uri": "https://localhost:8080/"
        },
        "id": "vcp-YSry3UVK",
        "outputId": "27f04d13-c32c-44c4-fdd0-7d606218bb74"
      },
      "execution_count": null,
      "outputs": [
        {
          "name": "stdout",
          "output_type": "stream",
          "text": [
            " Insert value: 1\n"
          ]
        },
        {
          "output_type": "execute_result",
          "data": {
            "text/plain": [
              "1"
            ]
          },
          "metadata": {},
          "execution_count": 50
        }
      ]
    },
    {
      "cell_type": "code",
      "source": [
        "age = int(input(\"Enter number: \"))\n",
        "if age < 12:\n",
        "  print('Cannot smoke')\n",
        "else:\n",
        "  print('Who are you')"
      ],
      "metadata": {
        "colab": {
          "base_uri": "https://localhost:8080/"
        },
        "id": "b-8faIj5-C37",
        "outputId": "ed5be1f7-b969-4bf1-f15c-725030d1dc24"
      },
      "execution_count": null,
      "outputs": [
        {
          "output_type": "stream",
          "name": "stdout",
          "text": [
            "Enter number: 22\n",
            "Who are you\n"
          ]
        }
      ]
    },
    {
      "cell_type": "code",
      "source": [
        "stock_price = float(input('Enter Value: '))\n",
        "if stock_price > 20:\n",
        "  print(stock_price + 20)\n",
        "else:\n",
        "  print(stock_price-20)"
      ],
      "metadata": {
        "colab": {
          "base_uri": "https://localhost:8080/"
        },
        "id": "X1JOwULaAs8V",
        "outputId": "dd68d14f-cbd0-46c4-8989-6e98b3e2803d"
      },
      "execution_count": null,
      "outputs": [
        {
          "output_type": "stream",
          "name": "stdout",
          "text": [
            "Enter Value: 19\n",
            "-1.0\n"
          ]
        }
      ]
    },
    {
      "cell_type": "code",
      "source": [
        "# Write a program to subtract age from 10 if its less than 100\n",
        "# write a program  to calculate your profit from 20% of the cost"
      ],
      "metadata": {
        "id": "WTaiOg_zBejg"
      },
      "execution_count": null,
      "outputs": []
    },
    {
      "cell_type": "code",
      "source": [
        "for i in range(1,10):\n",
        "  print(i, \"is five times equal to \", i*5)"
      ],
      "metadata": {
        "colab": {
          "base_uri": "https://localhost:8080/"
        },
        "id": "_Oi4JC1DEUSk",
        "outputId": "1d1f0543-86c7-4ff6-a52e-a46c327df416"
      },
      "execution_count": null,
      "outputs": [
        {
          "output_type": "stream",
          "name": "stdout",
          "text": [
            "1 is five times equal to  5\n",
            "2 is five times equal to  10\n",
            "3 is five times equal to  15\n",
            "4 is five times equal to  20\n",
            "5 is five times equal to  25\n",
            "6 is five times equal to  30\n",
            "7 is five times equal to  35\n",
            "8 is five times equal to  40\n",
            "9 is five times equal to  45\n"
          ]
        }
      ]
    },
    {
      "cell_type": "code",
      "source": [
        "for i in range(13):\n",
        "  print(i, \"is five times equal to \", i*5)"
      ],
      "metadata": {
        "colab": {
          "base_uri": "https://localhost:8080/"
        },
        "id": "NZb-eqVtGl-R",
        "outputId": "466ec05d-1e4b-4cd2-febd-341a4cd3638c"
      },
      "execution_count": null,
      "outputs": [
        {
          "output_type": "stream",
          "name": "stdout",
          "text": [
            "0 is five times equal to  0\n",
            "1 is five times equal to  5\n",
            "2 is five times equal to  10\n",
            "3 is five times equal to  15\n",
            "4 is five times equal to  20\n",
            "5 is five times equal to  25\n",
            "6 is five times equal to  30\n",
            "7 is five times equal to  35\n",
            "8 is five times equal to  40\n",
            "9 is five times equal to  45\n",
            "10 is five times equal to  50\n",
            "11 is five times equal to  55\n",
            "12 is five times equal to  60\n"
          ]
        }
      ]
    },
    {
      "cell_type": "code",
      "source": [
        "i = 0\n",
        "while i <= 5:\n",
        "  if (i == 4):\n",
        "    break"
      ],
      "metadata": {
        "colab": {
          "base_uri": "https://localhost:8080/",
          "height": 193
        },
        "id": "mPDh7kjnH3KO",
        "outputId": "aa56bf54-636f-4b8c-8ce9-a489a74450d9"
      },
      "execution_count": null,
      "outputs": [
        {
          "output_type": "error",
          "ename": "KeyboardInterrupt",
          "evalue": "",
          "traceback": [
            "\u001b[0;31m---------------------------------------------------------------------------\u001b[0m",
            "\u001b[0;31mKeyboardInterrupt\u001b[0m                         Traceback (most recent call last)",
            "\u001b[0;32m<ipython-input-72-8017f09175eb>\u001b[0m in \u001b[0;36m<cell line: 2>\u001b[0;34m()\u001b[0m\n\u001b[1;32m      1\u001b[0m \u001b[0mi\u001b[0m \u001b[0;34m=\u001b[0m \u001b[0;36m0\u001b[0m\u001b[0;34m\u001b[0m\u001b[0;34m\u001b[0m\u001b[0m\n\u001b[1;32m      2\u001b[0m \u001b[0;32mwhile\u001b[0m \u001b[0mi\u001b[0m \u001b[0;34m<=\u001b[0m \u001b[0;36m5\u001b[0m\u001b[0;34m:\u001b[0m\u001b[0;34m\u001b[0m\u001b[0;34m\u001b[0m\u001b[0m\n\u001b[0;32m----> 3\u001b[0;31m   \u001b[0;32mif\u001b[0m \u001b[0;34m(\u001b[0m\u001b[0mi\u001b[0m \u001b[0;34m==\u001b[0m \u001b[0;36m4\u001b[0m\u001b[0;34m)\u001b[0m\u001b[0;34m:\u001b[0m\u001b[0;34m\u001b[0m\u001b[0;34m\u001b[0m\u001b[0m\n\u001b[0m\u001b[1;32m      4\u001b[0m     \u001b[0;32mbreak\u001b[0m\u001b[0;34m\u001b[0m\u001b[0;34m\u001b[0m\u001b[0m\n",
            "\u001b[0;31mKeyboardInterrupt\u001b[0m: "
          ]
        }
      ]
    },
    {
      "cell_type": "code",
      "source": [
        "i = 0\n",
        "while i < 5:\n",
        "  if i == 4:\n",
        "    break\n",
        "  print(i)\n",
        "  i = i + 1"
      ],
      "metadata": {
        "colab": {
          "base_uri": "https://localhost:8080/"
        },
        "id": "KtWooEPFIFG2",
        "outputId": "63710a36-b384-4e00-c216-8fa756b40c5a"
      },
      "execution_count": null,
      "outputs": [
        {
          "output_type": "stream",
          "name": "stdout",
          "text": [
            "0\n",
            "1\n",
            "2\n",
            "3\n"
          ]
        }
      ]
    },
    {
      "cell_type": "code",
      "source": [
        "def int_inc(x,r,y,m):\n",
        "  if x == r*0.7:\n",
        "    return y*1.01\n",
        "  elif m == y*1.04:\n",
        "    return r*1.01"
      ],
      "metadata": {
        "id": "JmrRVzpJIrb8"
      },
      "execution_count": null,
      "outputs": []
    },
    {
      "cell_type": "code",
      "source": [
        "def tax_calc(tx,tr,x):\n",
        "  if tx == tr*x:\n",
        "    print('You are an honest tax payer')\n",
        "  else:\n",
        "    print('You are dishonest')"
      ],
      "metadata": {
        "id": "d0KsyayyLBqu"
      },
      "execution_count": null,
      "outputs": []
    },
    {
      "cell_type": "code",
      "source": [
        "tax_calc(12,0.1,120)"
      ],
      "metadata": {
        "colab": {
          "base_uri": "https://localhost:8080/"
        },
        "id": "ie8AhtPDLKPM",
        "outputId": "f5604726-91ae-41cd-8a97-110b19217a82"
      },
      "execution_count": null,
      "outputs": [
        {
          "output_type": "stream",
          "name": "stdout",
          "text": [
            "You are an honest tax payer\n"
          ]
        }
      ]
    },
    {
      "cell_type": "code",
      "source": [
        "def g_t(x):\n",
        "  if x == 'Male':\n",
        "    return 0\n",
        "  elif x == \"Transgender\":\n",
        "    return 2\n",
        "  elif x == \"Female\":\n",
        "    return 1\n",
        "  else:\n",
        "    print(\" you are an alien\")"
      ],
      "metadata": {
        "id": "zXd17SECLsNh"
      },
      "execution_count": null,
      "outputs": []
    },
    {
      "cell_type": "code",
      "source": [
        "g_t('Male')"
      ],
      "metadata": {
        "colab": {
          "base_uri": "https://localhost:8080/"
        },
        "id": "ss67t0x9MKlA",
        "outputId": "754a5e8e-c426-4e12-bd7a-4f2ae1bf0c06"
      },
      "execution_count": null,
      "outputs": [
        {
          "output_type": "execute_result",
          "data": {
            "text/plain": [
              "0"
            ]
          },
          "metadata": {},
          "execution_count": 98
        }
      ]
    },
    {
      "cell_type": "code",
      "source": [
        "g_t('Female')"
      ],
      "metadata": {
        "colab": {
          "base_uri": "https://localhost:8080/"
        },
        "id": "yoyZZrslMMn4",
        "outputId": "b834ea8c-4c09-4711-95b0-210e5144aed8"
      },
      "execution_count": null,
      "outputs": [
        {
          "output_type": "execute_result",
          "data": {
            "text/plain": [
              "1"
            ]
          },
          "metadata": {},
          "execution_count": 99
        }
      ]
    },
    {
      "cell_type": "code",
      "source": [
        "g_t('Spirit Animal')"
      ],
      "metadata": {
        "colab": {
          "base_uri": "https://localhost:8080/"
        },
        "id": "723380CaMOYL",
        "outputId": "89bdf04e-7403-4e9e-d877-9de719539354"
      },
      "execution_count": null,
      "outputs": [
        {
          "output_type": "stream",
          "name": "stdout",
          "text": [
            " you are an alien\n"
          ]
        }
      ]
    },
    {
      "cell_type": "code",
      "source": [
        "pd.DataFrame({'monkeydict':pd.Series(monkeydict),'pigdict':pd.Series(pigdict)})"
      ],
      "metadata": {
        "id": "mDX_-AJbMm33"
      },
      "execution_count": null,
      "outputs": []
    }
  ]
}